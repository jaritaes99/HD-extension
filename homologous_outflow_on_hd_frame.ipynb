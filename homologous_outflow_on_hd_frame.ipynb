{
 "cells": [
  {
   "cell_type": "markdown",
   "id": "1bbf61e9",
   "metadata": {},
   "source": [
    "# The mission"
   ]
  },
  {
   "cell_type": "markdown",
   "id": "3eaed859",
   "metadata": {},
   "source": [
    "We want to apply the homologous outflow equations to a HD frame that is in the homologous outflow stage such that it can expand using said equations."
   ]
  },
  {
   "cell_type": "markdown",
   "id": "cc0b956a",
   "metadata": {},
   "source": [
    "# 0. Setting everything up"
   ]
  },
  {
   "cell_type": "markdown",
   "id": "1b3280a9",
   "metadata": {},
   "source": [
    "We first import necessary libraries."
   ]
  },
  {
   "cell_type": "code",
   "execution_count": 1,
   "id": "d4d1f721",
   "metadata": {},
   "outputs": [],
   "source": [
    "import yt\n",
    "import numpy as np\n",
    "import matplotlib.pyplot as plt\n",
    "import astropy.units as unit\n",
    "import astropy.constants as const\n",
    "%matplotlib notebook"
   ]
  },
  {
   "cell_type": "markdown",
   "id": "54da145f",
   "metadata": {},
   "source": [
    "We now define all necessary functions (homologous outflow)."
   ]
  },
  {
   "cell_type": "code",
   "execution_count": 2,
   "id": "172dc309",
   "metadata": {},
   "outputs": [],
   "source": [
    "def omega(v):\n",
    "    '''\n",
    "    Return $\\hat{\\Omega} = \\dot{r}/|\\dot{r}|$ for a cell grid. \n",
    "    This quantity is the unit first time derivative of the radius vector.\n",
    "    \n",
    "    INPUT: \n",
    "    \n",
    "    --v (numpy array): (n, n, 2) shaped array containing x,y components of \n",
    "    velocity vector for an n by n grid.\n",
    "    \n",
    "    OUTPUT: \n",
    "    \n",
    "    --omega (numpy array): (n, n, 2) vector containing x,y components of \n",
    "    velocity unit vector for an n by n grid.\n",
    "    '''\n",
    "    return v / np.linalg.norm(v, axis = 1)[:,None]\n",
    "\n",
    "def s(t_sim, t):\n",
    "    '''\n",
    "    Return $s = c (t-t_{sim})$ in 2D. \n",
    "    This quantity is the step size the cell takes when moving at \n",
    "    speed $c$ from time $t_{sim}$ to time $t$. \n",
    "    \n",
    "    INPUT: \n",
    "    \n",
    "    --t_sim (float): initial time\n",
    "    \n",
    "    --t (float): final time\n",
    "    \n",
    "    OUTPUT: \n",
    "    \n",
    "    --s float: magnitude of step taken in time $(t-t_{sim}})$ given by velocity $c$.\n",
    "    '''\n",
    "\n",
    "    return ( ( t - t_sim ) * const.c.cgs.value )\n",
    "\n",
    "def r_step_c(r_i,s,omega_hat):\n",
    "    '''\n",
    "    Return $r = r_i + s \\hat{\\Omega}$ in 2D. \n",
    "    This quantity is the step size the cell takes when moving a distance\n",
    "    given by s from time $t_{sim}$ to time $t$\n",
    "    \n",
    "    INPUT: \n",
    "    \n",
    "    --r_i (numpy array)\n",
    "    \n",
    "    --t_sim (float): initial time\n",
    "    \n",
    "    --t (float): final time\n",
    "    \n",
    "    OUTPUT: \n",
    "    \n",
    "    --s float: magnitude of step taken in time $(t-t_{sim}})$\n",
    "    '''\n",
    "    return ( r_i + s*omega_hat )\n",
    "\n",
    "def dedr(e,gamma,n,r):\n",
    "    return  -(8*(e**(3/4))*(4*e + 3*n))/(r*((9*n/(e**(1/4)) + 8*(e**(3/4))))) \n",
    "\n",
    "def dgammadr(e,gamma,n,r):\n",
    "    return (8*(e**(3/4))*gamma)/(r*((9*n/(e**(1/4)) + 8*(e**(3/4)))))\n",
    "\n",
    "def dndr(e,gamma,n,r):\n",
    "    return -(6*n*(4*e + 3*n))/(e**(1/4)*r*((9*n/(e**(1/4)) + 8*(e**(3/4)))))\n",
    "\n",
    "def homologous_outflow( gam, dens, r0, rf, ener = None, h_i = []):\n",
    "    '''\n",
    "    Return the solution to ODE soln. vectors (r, energy, gamma, density) \n",
    "    from r0 to rf.\n",
    "    Integrates set of homologous outflow equations with initial conditions \n",
    "    \n",
    "    ener (erg cm^-3 c^-2 = g cm^-3 energy density over c^2), \n",
    "    \n",
    "    gam (unitless Lorentz factor), \n",
    "    \n",
    "    n (g cm^-3 mass density),\n",
    "    \n",
    "    from r0 to rf (cm).\n",
    "    \n",
    "    INPUT: \n",
    "    \n",
    "    --gam (numpy array): matrix containing a grid for initial Lorentz Factor\n",
    "    \n",
    "    --dens (numpy array): matrix containing a grid for initial mass density\n",
    "    \n",
    "    --r0 (numpy array): matrix containing a grid for initial radius\n",
    "    \n",
    "    --rf (numpy array): matrix containing a grid for final radius\n",
    "    \n",
    "    --ener (numpy array): matrix containing a grid for initial energy/$c^2$, default = None\n",
    "    \n",
    "    --h_i (numpy array): matrix containing a grid for initial specific enthalpy, default = None\n",
    "    \n",
    "    OUTPUT: \n",
    "    \n",
    "    --r_step (numpy array): matrix containing a grid with vectors \n",
    "    containing radius discretization for solution vectors\n",
    "    \n",
    "    --e_arr (numpy array): matrix containing a grid with vectors \n",
    "    containing solution for energy/$c^2$ as a function of radius\n",
    "    \n",
    "    --gamma_arr (numpy array): matrix containing a grid with vectors \n",
    "    containing solution for Lorentz factor as a function of radius\n",
    "    \n",
    "    --n_arr (numpy array): matrix containing a grid with vectors \n",
    "    containing solution for mass density as a function of radius\n",
    "    \n",
    "    --h_arr (numpy array): matrix containing a grid with vectors \n",
    "    containing solution for specific enthalpy as a function of radius\n",
    "    \n",
    "    NOTES:\n",
    "    \n",
    "    --Even though the parameter defaults for ener and h_i are None, the function needs one or the other\n",
    "    in order to retrieve the solution vectors. if ener is given, it will take it as ICs. If h_i is given,\n",
    "    the function calculates energy from this and proceeds to solve the ODEs with this calculated IC.\n",
    "    '''\n",
    "    \n",
    "    if ener == None: \n",
    "        \n",
    "        ener = 3 * ( h_i - 1 ) * dens / 4 \n",
    "        \n",
    "        h_start = h_i\n",
    "        \n",
    "    if len(h_i) == 0:\n",
    "        \n",
    "        h_start = (ener * 4 / (dens * 3) ) + 1\n",
    "    \n",
    "    e_start = ener #e_tilde #e/const.c.cgs.value**2\n",
    "    gamma_start = gam\n",
    "    n_start = dens #/const.m_p.cgs.value\n",
    "\n",
    "    \n",
    "    \n",
    "    steps = 10000\n",
    "\n",
    "    diff = (rf - r0)/(steps-1)\n",
    "\n",
    "    r_step = np.zeros((steps, r0.shape[0]))\n",
    "\n",
    "    r_step[0] = r0\n",
    "\n",
    "    for i in range(1, steps):\n",
    "    \n",
    "        r_step[i] = r_step[i-1] + diff\n",
    "\n",
    "    \n",
    "    \n",
    "    e_arr = np.zeros(r_step.shape)       # create an array of zeros for e\n",
    "    gamma_arr = np.zeros(r_step.shape)   # create an array of zeros for gamma\n",
    "    n_arr = np.zeros(r_step.shape)       # create an array of zeros for n\n",
    "    h_arr = np.zeros(r_step.shape)\n",
    "    e_arr[0] = e_start                  # add initial value of e to array\n",
    "    gamma_arr[0] = gamma_start          # add initial value of gamma to array\n",
    "    n_arr[0] = n_start                  # add initial value of n to array\n",
    "    h_arr[0] = h_start\n",
    "\n",
    "    for i in range (1, r_step.shape[0]):  \n",
    "        e = e_arr[i-1]\n",
    "        gamma = gamma_arr[i-1]\n",
    "        n = n_arr[i-1]\n",
    "        r = r_step[i-1]\n",
    "        Dr = r_step[i] - r_step[i-1]\n",
    "\n",
    "        #calculate k1 for e, gamma and n\n",
    "        k1_e = dedr(e,gamma,n,r)\n",
    "        k1_gamma = dgammadr(e,gamma,n,r)\n",
    "        k1_n = dndr(e,gamma,n,r)\n",
    "\n",
    "        #calculate k2 for e, gamma and n\n",
    "        k2_e = dedr(e+(1/2)*Dr*k1_e,gamma+(1/2)*Dr*k1_gamma,n+(1/2)*Dr*k1_n,r+(1/2)*Dr)\n",
    "        k2_gamma = dgammadr(e+(1/2)*Dr*k1_e,gamma+(1/2)*Dr*k1_gamma,n+(1/2)*Dr*k1_n,r+(1/2)*Dr)\n",
    "        k2_n = dndr(e+(1/2)*Dr*k1_e,gamma+(1/2)*Dr*k1_gamma,n+(1/2)*Dr*k1_n,r+(1/2)*Dr)\n",
    "\n",
    "        #calculate k3 for e, gamma and n\n",
    "        k3_e = dedr(e+(1/2)*Dr*k2_e,gamma+(1/2)*Dr*k2_gamma,n+(1/2)*Dr*k2_n,r+(1/2)*Dr)\n",
    "        k3_gamma = dgammadr(e+(1/2)*Dr*k2_e,gamma+(1/2)*Dr*k2_gamma,n+(1/2)*Dr*k2_n,r+(1/2)*Dr)\n",
    "        k3_n = dndr(e+(1/2)*Dr*k2_e,gamma+(1/2)*Dr*k2_gamma,n+(1/2)*Dr*k2_n,r+(1/2)*Dr)\n",
    "\n",
    "        #calculate k4 for e, gamma and n\n",
    "        k4_e = dedr(e+Dr*k3_e,gamma+Dr*k3_gamma,n+Dr*k3_n,r+Dr)\n",
    "        k4_gamma = dgammadr(e+Dr*k3_e,gamma+Dr*k3_gamma,n+Dr*k3_n,r+Dr)\n",
    "        k4_n = dndr(e+Dr*k3_e,gamma+Dr*k3_gamma,n+Dr*k3_n,r+Dr)\n",
    "\n",
    "        e_arr[i] = e + (1/6)*Dr*(k1_e+2*k2_e+2*k3_e+k4_e)                   # calc. e at next radius step,add to array\n",
    "        gamma_arr[i] = gamma + (1/6)*Dr*(k1_gamma+2*k2_gamma+2*k3_gamma+k4_gamma) # calc. gamma at next radius step,add to array\n",
    "        n_arr[i] = n + (1/6)*Dr*(k1_n+2*k2_n+2*k3_n+k4_n)           # calc. n at next radius tep,add to array\n",
    "        \n",
    "        h_arr[i] = 1+ (4*e_arr[i])/(3*n_arr[i])\n",
    "    \n",
    "    return (r_step, e_arr, gamma_arr, n_arr, h_arr)"
   ]
  },
  {
   "cell_type": "markdown",
   "id": "9e76b59b",
   "metadata": {},
   "source": [
    "# 1. We now import a HD frame"
   ]
  },
  {
   "cell_type": "markdown",
   "id": "d841cb89",
   "metadata": {},
   "source": [
    "We use yt to read a FLASH frame from a 16TI model. We use the final frame in our simulation, since we predict the outflow has reached a homologous state at this point in the simulation."
   ]
  },
  {
   "cell_type": "code",
   "execution_count": 3,
   "id": "da7e9e77",
   "metadata": {},
   "outputs": [
    {
     "name": "stderr",
     "output_type": "stream",
     "text": [
      "yt : [WARNING  ] 2023-06-07 13:05:09,125 Guessing dimensionality as 2\n",
      "yt : [WARNING  ] 2023-06-07 13:05:09,126 Extending theta dimension to 2PI + left edge.\n",
      "yt : [INFO     ] 2023-06-07 13:05:09,226 Parameters: current_time              = 18558.002\n",
      "yt : [INFO     ] 2023-06-07 13:05:09,227 Parameters: domain_dimensions         = [160 800   1]\n",
      "yt : [INFO     ] 2023-06-07 13:05:09,229 Parameters: domain_left_edge          = [0. 0. 0.]\n",
      "yt : [INFO     ] 2023-06-07 13:05:09,231 Parameters: domain_right_edge         = [5.12000000e+03 2.56000000e+04 6.28318531e+00]\n",
      "yt : [INFO     ] 2023-06-07 13:05:09,231 Parameters: cosmological_simulation   = 0\n"
     ]
    }
   ],
   "source": [
    "frame_flash = yt.load(\n",
    "  '/Users/josearita-escalante/Documents/GRB-NASA/2nd-project/notebooks/hd-frames/16TI/FLASH/rhd_jet_big_13_hdf5_plt_cnt_3092')"
   ]
  },
  {
   "cell_type": "code",
   "execution_count": 4,
   "id": "a55153fa",
   "metadata": {
    "scrolled": true
   },
   "outputs": [
    {
     "data": {
      "text/plain": [
       "[('flash', 'dens'),\n",
       " ('flash', 'ener'),\n",
       " ('flash', 'pres'),\n",
       " ('flash', 'velx'),\n",
       " ('flash', 'vely')]"
      ]
     },
     "execution_count": 4,
     "metadata": {},
     "output_type": "execute_result"
    }
   ],
   "source": [
    "frame_flash.field_list"
   ]
  },
  {
   "cell_type": "code",
   "execution_count": 5,
   "id": "c55aa6d3",
   "metadata": {},
   "outputs": [
    {
     "data": {
      "text/plain": [
       "[('flash', 'cell_volume'),\n",
       " ('flash', 'dens'),\n",
       " ('flash', 'dr'),\n",
       " ('flash', 'dtheta'),\n",
       " ('flash', 'dz'),\n",
       " ('flash', 'ener'),\n",
       " ('flash', 'path_element_r'),\n",
       " ('flash', 'path_element_theta'),\n",
       " ('flash', 'path_element_z'),\n",
       " ('flash', 'pres'),\n",
       " ('flash', 'r'),\n",
       " ('flash', 'theta'),\n",
       " ('flash', 'velx'),\n",
       " ('flash', 'vely'),\n",
       " ('flash', 'volume'),\n",
       " ('flash', 'z'),\n",
       " ('gas', 'averaged_density'),\n",
       " ('gas', 'cell_mass'),\n",
       " ('gas', 'cell_volume'),\n",
       " ('gas', 'density'),\n",
       " ('gas', 'density_gradient_magnitude'),\n",
       " ('gas', 'density_gradient_r'),\n",
       " ('gas', 'density_gradient_theta'),\n",
       " ('gas', 'density_gradient_z'),\n",
       " ('gas', 'dr'),\n",
       " ('gas', 'dtheta'),\n",
       " ('gas', 'dynamical_time'),\n",
       " ('gas', 'dz'),\n",
       " ('gas', 'four_velocity_magnitude'),\n",
       " ('gas', 'four_velocity_r'),\n",
       " ('gas', 'four_velocity_t'),\n",
       " ('gas', 'four_velocity_z'),\n",
       " ('gas', 'lorentz_factor'),\n",
       " ('gas', 'mach_number'),\n",
       " ('gas', 'mass'),\n",
       " ('gas', 'momentum_density_r'),\n",
       " ('gas', 'momentum_density_z'),\n",
       " ('gas', 'momentum_r'),\n",
       " ('gas', 'momentum_z'),\n",
       " ('gas', 'path_element_r'),\n",
       " ('gas', 'path_element_theta'),\n",
       " ('gas', 'path_element_z'),\n",
       " ('gas', 'pressure'),\n",
       " ('gas', 'pressure_gradient_magnitude'),\n",
       " ('gas', 'pressure_gradient_r'),\n",
       " ('gas', 'pressure_gradient_theta'),\n",
       " ('gas', 'pressure_gradient_z'),\n",
       " ('gas', 'r'),\n",
       " ('gas', 'relative_velocity_r'),\n",
       " ('gas', 'relative_velocity_z'),\n",
       " ('gas', 'sound_speed'),\n",
       " ('gas', 'specific_thermal_energy'),\n",
       " ('gas', 'specific_total_energy'),\n",
       " ('gas', 'theta'),\n",
       " ('gas', 'velocity_cartesian_x'),\n",
       " ('gas', 'velocity_cartesian_y'),\n",
       " ('gas', 'velocity_cartesian_z'),\n",
       " ('gas', 'velocity_magnitude'),\n",
       " ('gas', 'velocity_r'),\n",
       " ('gas', 'velocity_z'),\n",
       " ('gas', 'volume'),\n",
       " ('gas', 'z'),\n",
       " ('index', 'cell_volume'),\n",
       " ('index', 'dr'),\n",
       " ('index', 'dtheta'),\n",
       " ('index', 'dz'),\n",
       " ('index', 'grid_indices'),\n",
       " ('index', 'grid_level'),\n",
       " ('index', 'ones'),\n",
       " ('index', 'path_element_r'),\n",
       " ('index', 'path_element_theta'),\n",
       " ('index', 'path_element_z'),\n",
       " ('index', 'r'),\n",
       " ('index', 'theta'),\n",
       " ('index', 'virial_radius_fraction'),\n",
       " ('index', 'volume'),\n",
       " ('index', 'z'),\n",
       " ('index', 'zeros')]"
      ]
     },
     "execution_count": 5,
     "metadata": {},
     "output_type": "execute_result"
    }
   ],
   "source": [
    "frame_flash.derived_field_list"
   ]
  },
  {
   "cell_type": "markdown",
   "id": "b669481c",
   "metadata": {},
   "source": [
    "# 2. Let's analyze the data"
   ]
  },
  {
   "cell_type": "markdown",
   "id": "f907ed01",
   "metadata": {},
   "source": [
    "We get quantities such as the ( r , z ) components, density, energy, velocity ($v_r$, $v_z$) components.\n",
    "\n",
    "We first need to convert all quantities containing length from code length to centimeters, by multiplying them by $10^9$. \n",
    "\n",
    "Let's first do position (r and z). We can use these two components to get the real radius."
   ]
  },
  {
   "cell_type": "code",
   "execution_count": 6,
   "id": "9e3876a6",
   "metadata": {},
   "outputs": [],
   "source": [
    "ad = frame_flash.all_data()\n",
    "\n",
    "z = ad['flash','z']\n",
    "\n",
    "r = ad['flash','r']"
   ]
  },
  {
   "cell_type": "code",
   "execution_count": 7,
   "id": "7dafe50e",
   "metadata": {},
   "outputs": [
    {
     "name": "stdout",
     "output_type": "stream",
     "text": [
      "0.00390625 cm 5119.0 cm\n",
      "3906250.0 cm 5119000000000.0 cm\n"
     ]
    }
   ],
   "source": [
    "r_units = r*1e9\n",
    "\n",
    "print(r.min(),r.max())\n",
    "\n",
    "print(r_units.min(),r_units.max())"
   ]
  },
  {
   "cell_type": "code",
   "execution_count": 8,
   "id": "e6b88ca8",
   "metadata": {},
   "outputs": [
    {
     "name": "stdout",
     "output_type": "stream",
     "text": [
      "0.00390625 cm 25584.0 cm\n",
      "3906250.0 cm 25584000000000.0 cm\n"
     ]
    }
   ],
   "source": [
    "z_units = z*1e9\n",
    "\n",
    "print(z.min(),z.max())\n",
    "\n",
    "print(z_units.min(),z_units.max())"
   ]
  },
  {
   "cell_type": "code",
   "execution_count": 9,
   "id": "ee9a27a9",
   "metadata": {},
   "outputs": [],
   "source": [
    "r_comps = np.array([r_units, z_units]).T\n",
    "\n",
    "r_mag = np.linalg.norm(r_comps, axis = 1)"
   ]
  },
  {
   "cell_type": "markdown",
   "id": "6891ca8d",
   "metadata": {},
   "source": [
    "We now do velocity. These velocity components are multiples of $c$. We can get the Lorentz factor from this."
   ]
  },
  {
   "cell_type": "code",
   "execution_count": 10,
   "id": "25222cc2",
   "metadata": {},
   "outputs": [],
   "source": [
    "v_f_x = ad['flash', 'velx']\n",
    "\n",
    "v_f_y = ad['flash', 'vely']"
   ]
  },
  {
   "cell_type": "code",
   "execution_count": 11,
   "id": "384738d4",
   "metadata": {
    "scrolled": true
   },
   "outputs": [
    {
     "name": "stdout",
     "output_type": "stream",
     "text": [
      "[3.38382015e-05 3.40338884e-05 3.40608312e-05 ... 2.24541754e-01\n",
      " 2.24491894e-01 2.24455371e-01] code_length/code_time\n",
      "[0.99993378 0.99994081 0.99994689 ... 0.89574683 0.89625514 0.89674795] code_length/code_time\n"
     ]
    }
   ],
   "source": [
    "print(v_f_x)\n",
    "\n",
    "print(v_f_y)"
   ]
  },
  {
   "cell_type": "code",
   "execution_count": 12,
   "id": "2fdeef4e",
   "metadata": {},
   "outputs": [],
   "source": [
    "v_comps = np.array([v_f_x, v_f_y]).T\n",
    "\n",
    "v_mag = np.linalg.norm(v_comps, axis = 1)"
   ]
  },
  {
   "cell_type": "code",
   "execution_count": 13,
   "id": "28b9d96f",
   "metadata": {},
   "outputs": [
    {
     "data": {
      "text/plain": [
       "array([86.89544028, 91.91340963, 97.03183313, ...,  2.60626532,\n",
       "        2.61416583,  2.62194677])"
      ]
     },
     "execution_count": 13,
     "metadata": {},
     "output_type": "execute_result"
    }
   ],
   "source": [
    "lor_fac = 1 / np.sqrt(1-v_mag**2)\n",
    "\n",
    "lor_fac"
   ]
  },
  {
   "cell_type": "markdown",
   "id": "aca9659d",
   "metadata": {},
   "source": [
    "Now we load energy. The flash energy (even though yt says otherwise), is already in units of erg c$^{-2}$ cm$^{-3}$."
   ]
  },
  {
   "cell_type": "code",
   "execution_count": 14,
   "id": "95e0c41e",
   "metadata": {},
   "outputs": [
    {
     "data": {
      "text/plain": [
       "unyt_array([7.57024219e+03, 8.46783203e+03, 9.43574121e+03, ...,\n",
       "            7.07993889e+00, 7.12484932e+00, 7.16882181e+00], 'code_length**2/code_time**2')"
      ]
     },
     "execution_count": 14,
     "metadata": {},
     "output_type": "execute_result"
    }
   ],
   "source": [
    "ener = ad['flash','ener']\n",
    "\n",
    "ener"
   ]
  },
  {
   "cell_type": "markdown",
   "id": "e70601b2",
   "metadata": {},
   "source": [
    "Pressure is in the same units as energy and defined as $e = 3 p$. This is not what we see, not in the units or in the values themselves. "
   ]
  },
  {
   "cell_type": "code",
   "execution_count": 15,
   "id": "24402fb8",
   "metadata": {},
   "outputs": [
    {
     "data": {
      "text/plain": [
       "unyt_array([2.08381244e-15, 2.06894574e-15, 2.15462079e-15, ...,\n",
       "            1.91823705e-12, 1.93090422e-12, 1.94020581e-12], 'code_mass/(code_length*code_time**2)')"
      ]
     },
     "execution_count": 15,
     "metadata": {},
     "output_type": "execute_result"
    }
   ],
   "source": [
    "pres = ad['flash','pres']\n",
    "\n",
    "pres"
   ]
  },
  {
   "cell_type": "markdown",
   "id": "6abf48b2",
   "metadata": {},
   "source": [
    "We now look at density. This has mass over volume units. "
   ]
  },
  {
   "cell_type": "code",
   "execution_count": 16,
   "id": "349eee84",
   "metadata": {},
   "outputs": [
    {
     "data": {
      "text/plain": [
       "unyt_array([3.85595115e-12, 4.06114725e-12, 4.27694382e-12, ...,\n",
       "            1.74721834e-10, 1.74755238e-10, 1.74744136e-10], 'code_mass/code_length**3')"
      ]
     },
     "execution_count": 16,
     "metadata": {},
     "output_type": "execute_result"
    }
   ],
   "source": [
    "dens = ad['flash','dens']\n",
    "\n",
    "dens"
   ]
  },
  {
   "cell_type": "markdown",
   "id": "93a7896c",
   "metadata": {},
   "source": [
    "Let's test the h values. These do not seem quite right for energy."
   ]
  },
  {
   "cell_type": "code",
   "execution_count": 17,
   "id": "66ece123",
   "metadata": {},
   "outputs": [
    {
     "name": "stdout",
     "output_type": "stream",
     "text": [
      "7.864207906365611 2.274306036194676e+19\n"
     ]
    }
   ],
   "source": [
    "h_ener = 1 + np.array(ener) * 4 / (3* np.array(dens))\n",
    "\n",
    "print(h_ener.min(), h_ener.max())"
   ]
  },
  {
   "cell_type": "code",
   "execution_count": 18,
   "id": "6389d1be",
   "metadata": {},
   "outputs": [
    {
     "name": "stdout",
     "output_type": "stream",
     "text": [
      "1.0000000000281144 114.6647588100743\n"
     ]
    }
   ],
   "source": [
    "h_pres = 1 + np.array(pres) * 4 / ( np.array(dens))\n",
    "\n",
    "print(h_pres.min(), h_pres.max())"
   ]
  },
  {
   "cell_type": "markdown",
   "id": "522d3577",
   "metadata": {},
   "source": [
    "It seems like pressure gives us right values for enthalpy. Let's try the solver with these values."
   ]
  },
  {
   "cell_type": "code",
   "execution_count": null,
   "id": "dbbbb5aa",
   "metadata": {},
   "outputs": [],
   "source": [
    "new_r_flash = r_step_c(r_comps, s(10,100 + 10), omega(v_comps))\n",
    "\n",
    "rf_flash = np.linalg.norm(new_r_flash, axis = 1)\n",
    "\n",
    "r_flash, e_flash, g_flash, n_flash, h_flash = homologous_outflow(\n",
    "  lor_fac, \n",
    "  dens, \n",
    "  r_mag, \n",
    "  rf_flash, \n",
    "  h_i = h_pres)"
   ]
  },
  {
   "cell_type": "code",
   "execution_count": null,
   "id": "6c3e3196",
   "metadata": {},
   "outputs": [],
   "source": [
    "fig = plt.figure()\n",
    "\n",
    "ax = plt.gca()\n",
    "\n",
    "mapp = ax.scatter(r_comps[:,0],r_comps[:,1], c = lor_fac)\n",
    "\n",
    "cb = plt.colorbar(mappable = mapp, ax = ax)\n",
    "\n",
    "plt.axis('equal')"
   ]
  },
  {
   "cell_type": "code",
   "execution_count": null,
   "id": "7cd9e021",
   "metadata": {},
   "outputs": [],
   "source": [
    "fig = plt.figure()\n",
    "\n",
    "ax = plt.gca()\n",
    "\n",
    "mapp1 = ax.scatter(new_r_flash[:,0],new_r_flash[:,1], c = g_flash[-1])\n",
    "\n",
    "cb1 = plt.colorbar(mappable = mapp1, ax = ax)\n",
    "\n",
    "plt.axis('equal')"
   ]
  }
 ],
 "metadata": {
  "kernelspec": {
   "display_name": "Python 3",
   "language": "python",
   "name": "python3"
  },
  "language_info": {
   "codemirror_mode": {
    "name": "ipython",
    "version": 3
   },
   "file_extension": ".py",
   "mimetype": "text/x-python",
   "name": "python",
   "nbconvert_exporter": "python",
   "pygments_lexer": "ipython3",
   "version": "3.8.8"
  }
 },
 "nbformat": 4,
 "nbformat_minor": 5
}
